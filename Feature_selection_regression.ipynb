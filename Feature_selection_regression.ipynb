{
 "cells": [
  {
   "cell_type": "code",
   "execution_count": 7,
   "id": "a083684c",
   "metadata": {},
   "outputs": [],
   "source": [
    "import pandas as pd\n",
    "import numpy as np\n",
    "from sklearn.linear_model import LogisticRegression\n",
    "from sklearn.preprocessing import StandardScaler\n",
    "from sklearn.model_selection import train_test_split\n",
    "from sklearn.linear_model import Lasso\n",
    "from sklearn.ensemble import RandomForestClassifier\n",
    "import tensorflow as tf\n",
    "import os as os\n",
    "import pickle"
   ]
  },
  {
   "cell_type": "code",
   "execution_count": 2,
   "id": "f650ef54",
   "metadata": {},
   "outputs": [],
   "source": [
    "file_list = os.listdir()\n",
    "file_list.remove('Generating_tensors.ipynb')\n",
    "file_list.remove('.ipynb_checkpoints')\n",
    "file_list.remove('Xs_physical.npy')\n",
    "file_list.remove('ys_physical.npy')\n",
    "file_list.remove('Feature_selection_regression.ipynb')"
   ]
  },
  {
   "cell_type": "code",
   "execution_count": 3,
   "id": "e8e43b41",
   "metadata": {},
   "outputs": [],
   "source": [
    "# Transform the datasets into Xs and Ys\n",
    "def TransformSamples3 (sample1, sample2, sample3):\n",
    "    sample1 = sample1.T.to_numpy()[1:]\n",
    "    sample2 = sample2.T.to_numpy()[1:]\n",
    "    sample3 = sample3.T.to_numpy()[1:]\n",
    "    x = np.append(sample1, sample2, axis=0).astype('float32')\n",
    "    x = np.append(x, sample3, axis=0).astype('float32')\n",
    "    y = np.array([0]*len(sample1) + [1]*len(sample2)+[2]*len(sample3))\n",
    "    return x, y"
   ]
  },
  {
   "cell_type": "code",
   "execution_count": 4,
   "id": "94cf1010",
   "metadata": {},
   "outputs": [],
   "source": [
    "healthy_group_filename = []\n",
    "moderate_group_filename = []\n",
    "severe_group_filename = []\n",
    "for i in file_list:\n",
    "    if 'Healthy' in i:\n",
    "        healthy_group_filename.append(i)\n",
    "        continue\n",
    "    if 'Moderate' in i:\n",
    "        moderate_group_filename.append(i)\n",
    "        continue\n",
    "    if 'Severe' in i:\n",
    "        severe_group_filename.append(i)\n",
    "        continue"
   ]
  },
  {
   "cell_type": "code",
   "execution_count": 16,
   "id": "ae625c74",
   "metadata": {},
   "outputs": [],
   "source": [
    "healthy_group = []\n",
    "moderate_group = []\n",
    "severe_group = []\n",
    "for i in healthy_group_filename:\n",
    "    healthy_group.append(pd.read_csv(i, index_col='Unnamed: 0'))\n",
    "for i in moderate_group_filename:\n",
    "    moderate_group.append(pd.read_csv(i, index_col='Unnamed: 0'))\n",
    "for i in severe_group_filename:\n",
    "    severe_group.append(pd.read_csv(i, index_col='Unnamed: 0'))"
   ]
  },
  {
   "cell_type": "code",
   "execution_count": 17,
   "id": "e3636d34",
   "metadata": {},
   "outputs": [
    {
     "data": {
      "text/plain": [
       "[         Genename       Counts    Sample\n",
       " 0            B9D2   563.571300  Severe 3\n",
       " 1            JAG2    20.375315  Severe 3\n",
       " 2          DNASE1   453.483670  Severe 3\n",
       " 3            TRMU  1041.491200  Severe 3\n",
       " 4            RRP9   737.336000  Severe 3\n",
       " ...           ...          ...       ...\n",
       " 17201       FOXF1     0.000000  Severe 3\n",
       " 17202  AC092316.1     0.000000  Severe 3\n",
       " 17203   FOXP1-AS1     7.122574  Severe 3\n",
       " 17204     ANKRD61     0.000000  Severe 3\n",
       " 17205   TNKS2-AS1    25.048235  Severe 3\n",
       " \n",
       " [17206 rows x 3 columns],\n",
       "          Genename       Counts    Sample\n",
       " 0            B9D2   664.738460  Severe 1\n",
       " 1            JAG2     6.733430  Severe 1\n",
       " 2          DNASE1   858.351870  Severe 1\n",
       " 3            TRMU  1388.805500  Severe 1\n",
       " 4            RRP9   931.412300  Severe 1\n",
       " ...           ...          ...       ...\n",
       " 17201       FOXF1     0.000000  Severe 1\n",
       " 17202  AC092316.1     0.000000  Severe 1\n",
       " 17203   FOXP1-AS1    17.126390  Severe 1\n",
       " 17204     ANKRD61     3.549876  Severe 1\n",
       " 17205   TNKS2-AS1    30.747513  Severe 1\n",
       " \n",
       " [17206 rows x 3 columns],\n",
       "          Genename       Counts     Sample\n",
       " 0            B9D2  1108.921300  Severe 10\n",
       " 1            JAG2    91.372055  Severe 10\n",
       " 2          DNASE1  1540.317000  Severe 10\n",
       " 3            TRMU  1265.596600  Severe 10\n",
       " 4            RRP9   619.513370  Severe 10\n",
       " ...           ...          ...        ...\n",
       " 17201       FOXF1    39.025772  Severe 10\n",
       " 17202  AC092316.1    13.286356  Severe 10\n",
       " 17203   FOXP1-AS1    65.787370  Severe 10\n",
       " 17204     ANKRD61    48.745117  Severe 10\n",
       " 17205   TNKS2-AS1    14.778689  Severe 10\n",
       " \n",
       " [17206 rows x 3 columns],\n",
       "          Genename      Counts    Sample\n",
       " 0            B9D2  581.564640  Severe 7\n",
       " 1            JAG2    4.906357  Severe 7\n",
       " 2          DNASE1  421.698520  Severe 7\n",
       " 3            TRMU  710.976300  Severe 7\n",
       " 4            RRP9  588.083400  Severe 7\n",
       " ...           ...         ...       ...\n",
       " 17201       FOXF1    0.000000  Severe 7\n",
       " 17202  AC092316.1    0.000000  Severe 7\n",
       " 17203   FOXP1-AS1    0.000000  Severe 7\n",
       " 17204     ANKRD61    0.000000  Severe 7\n",
       " 17205   TNKS2-AS1   26.663734  Severe 7\n",
       " \n",
       " [17206 rows x 3 columns],\n",
       "          Genename       Counts    Sample\n",
       " 0            B9D2  1006.679700  Severe 2\n",
       " 1            JAG2    23.134052  Severe 2\n",
       " 2          DNASE1   981.288450  Severe 2\n",
       " 3            TRMU  1670.689300  Severe 2\n",
       " 4            RRP9  1424.068700  Severe 2\n",
       " ...           ...          ...       ...\n",
       " 17201       FOXF1    12.618297  Severe 2\n",
       " 17202  AC092316.1     0.000000  Severe 2\n",
       " 17203   FOXP1-AS1    14.775028  Severe 2\n",
       " 17204     ANKRD61     0.000000  Severe 2\n",
       " 17205   TNKS2-AS1    61.212260  Severe 2\n",
       " \n",
       " [17206 rows x 3 columns],\n",
       "          Genename       Counts    Sample\n",
       " 0            B9D2   964.132800  Severe 5\n",
       " 1            JAG2    13.075047  Severe 5\n",
       " 2          DNASE1   864.983400  Severe 5\n",
       " 3            TRMU  1445.020400  Severe 5\n",
       " 4            RRP9  1275.810000  Severe 5\n",
       " ...           ...          ...       ...\n",
       " 17201       FOXF1     0.000000  Severe 5\n",
       " 17202  AC092316.1     0.000000  Severe 5\n",
       " 17203   FOXP1-AS1     5.707495  Severe 5\n",
       " 17204     ANKRD61     0.000000  Severe 5\n",
       " 17205   TNKS2-AS1    18.619375  Severe 5\n",
       " \n",
       " [17206 rows x 3 columns],\n",
       "          Genename       Counts    Sample\n",
       " 0            B9D2  2989.867200  Severe 8\n",
       " 1            JAG2    23.493399  Severe 8\n",
       " 2          DNASE1  1511.059200  Severe 8\n",
       " 3            TRMU  1534.269300  Severe 8\n",
       " 4            RRP9  1065.398300  Severe 8\n",
       " ...           ...          ...       ...\n",
       " 17201       FOXF1     0.000000  Severe 8\n",
       " 17202  AC092316.1     0.000000  Severe 8\n",
       " 17203   FOXP1-AS1    25.429508  Severe 8\n",
       " 17204     ANKRD61     4.472272  Severe 8\n",
       " 17205   TNKS2-AS1    47.221440  Severe 8\n",
       " \n",
       " [17206 rows x 3 columns],\n",
       "          Genename      Counts    Sample\n",
       " 0            B9D2  399.774750  Severe 0\n",
       " 1            JAG2    7.452002  Severe 0\n",
       " 2          DNASE1   33.490130  Severe 0\n",
       " 3            TRMU  247.319500  Severe 0\n",
       " 4            RRP9   97.936806  Severe 0\n",
       " ...           ...         ...       ...\n",
       " 17201       FOXF1    0.000000  Severe 0\n",
       " 17202  AC092316.1    0.000000  Severe 0\n",
       " 17203   FOXP1-AS1    4.938271  Severe 0\n",
       " 17204     ANKRD61    0.000000  Severe 0\n",
       " 17205   TNKS2-AS1   11.655953  Severe 0\n",
       " \n",
       " [17206 rows x 3 columns],\n",
       "          Genename       Counts     Sample\n",
       " 0            B9D2   858.753050  Severe 14\n",
       " 1            JAG2   134.468600  Severe 14\n",
       " 2          DNASE1  3417.088400  Severe 14\n",
       " 3            TRMU  2042.386000  Severe 14\n",
       " 4            RRP9   615.527000  Severe 14\n",
       " ...           ...          ...        ...\n",
       " 17201       FOXF1    12.770911  Severe 14\n",
       " 17202  AC092316.1    12.072504  Severe 14\n",
       " 17203   FOXP1-AS1   127.701836  Severe 14\n",
       " 17204     ANKRD61    35.784786  Severe 14\n",
       " 17205   TNKS2-AS1    24.366234  Severe 14\n",
       " \n",
       " [17206 rows x 3 columns],\n",
       "          Genename      Counts    Sample\n",
       " 0            B9D2  527.845800  Severe 4\n",
       " 1            JAG2    3.209023  Severe 4\n",
       " 2          DNASE1  444.639680  Severe 4\n",
       " 3            TRMU  737.029600  Severe 4\n",
       " 4            RRP9  640.081700  Severe 4\n",
       " ...           ...         ...       ...\n",
       " 17201       FOXF1    0.000000  Severe 4\n",
       " 17202  AC092316.1    0.000000  Severe 4\n",
       " 17203   FOXP1-AS1    2.467917  Severe 4\n",
       " 17204     ANKRD61    0.000000  Severe 4\n",
       " 17205   TNKS2-AS1   19.353413  Severe 4\n",
       " \n",
       " [17206 rows x 3 columns],\n",
       "          Genename       Counts     Sample\n",
       " 0            B9D2   446.329160  Severe 13\n",
       " 1            JAG2   146.241700  Severe 13\n",
       " 2          DNASE1  1390.239400  Severe 13\n",
       " 3            TRMU  1149.958000  Severe 13\n",
       " 4            RRP9   366.747740  Severe 13\n",
       " ...           ...          ...        ...\n",
       " 17201       FOXF1    48.936676  Severe 13\n",
       " 17202  AC092316.1     6.407103  Severe 13\n",
       " 17203   FOXP1-AS1    52.781906  Severe 13\n",
       " 17204     ANKRD61     6.884032  Severe 13\n",
       " 17205   TNKS2-AS1     2.121854  Severe 13\n",
       " \n",
       " [17206 rows x 3 columns],\n",
       "          Genename       Counts    Sample\n",
       " 0            B9D2  3133.003200  Severe 6\n",
       " 1            JAG2     7.664783  Severe 6\n",
       " 2          DNASE1  1104.446300  Severe 6\n",
       " 3            TRMU   908.456800  Severe 6\n",
       " 4            RRP9   759.092960  Severe 6\n",
       " ...           ...          ...       ...\n",
       " 17201       FOXF1     0.000000  Severe 6\n",
       " 17202  AC092316.1     0.000000  Severe 6\n",
       " 17203   FOXP1-AS1     0.000000  Severe 6\n",
       " 17204     ANKRD61     0.000000  Severe 6\n",
       " 17205   TNKS2-AS1    12.892557  Severe 6\n",
       " \n",
       " [17206 rows x 3 columns],\n",
       "          Genename       Counts     Sample\n",
       " 0            B9D2   541.673000  Severe 11\n",
       " 1            JAG2   119.037920  Severe 11\n",
       " 2          DNASE1  1509.227900  Severe 11\n",
       " 3            TRMU  1117.387800  Severe 11\n",
       " 4            RRP9   400.203900  Severe 11\n",
       " ...           ...          ...        ...\n",
       " 17201       FOXF1    16.138900  Severe 11\n",
       " 17202  AC092316.1    15.989988  Severe 11\n",
       " 17203   FOXP1-AS1    46.778526  Severe 11\n",
       " 17204     ANKRD61     7.686508  Severe 11\n",
       " 17205   TNKS2-AS1    33.878410  Severe 11\n",
       " \n",
       " [17206 rows x 3 columns]]"
      ]
     },
     "execution_count": 17,
     "metadata": {},
     "output_type": "execute_result"
    }
   ],
   "source": [
    "severe_group"
   ]
  },
  {
   "cell_type": "code",
   "execution_count": 18,
   "id": "5724c069",
   "metadata": {},
   "outputs": [],
   "source": [
    "genes = healthy_group[0]['Genename'].values"
   ]
  },
  {
   "cell_type": "code",
   "execution_count": 19,
   "id": "91f15190",
   "metadata": {},
   "outputs": [],
   "source": [
    "from sklearn.preprocessing import MinMaxScaler"
   ]
  },
  {
   "cell_type": "code",
   "execution_count": 20,
   "id": "9c2f2f67",
   "metadata": {},
   "outputs": [],
   "source": [
    "scaler = MinMaxScaler()\n",
    "Xs = []\n",
    "ys = []\n",
    "for i in healthy_group:\n",
    "    Xs.append(scaler.fit_transform(np.log1p(i['Counts'].values).reshape(-1,1)).flatten())\n",
    "    ys.append(0)\n",
    "for i in moderate_group:\n",
    "    Xs.append(scaler.fit_transform(np.log1p(i['Counts'].values).reshape(-1,1)).flatten())\n",
    "    ys.append(1)\n",
    "for i in severe_group:\n",
    "    Xs.append(scaler.fit_transform(np.log1p(i['Counts'].values).reshape(-1,1)).flatten())\n",
    "    ys.append(2)\n",
    "Xs = np.array(Xs)\n",
    "ys = np.array(ys)"
   ]
  },
  {
   "cell_type": "code",
   "execution_count": 21,
   "id": "3792cfe8",
   "metadata": {},
   "outputs": [],
   "source": [
    "Xs_train, Xs_test = train_test_split(Xs, random_state=7)\n",
    "ys_train, ys_test = train_test_split(ys, random_state=7)"
   ]
  },
  {
   "cell_type": "code",
   "execution_count": 52,
   "id": "3262123d",
   "metadata": {},
   "outputs": [],
   "source": [
    "np.save('ys_severity', ys)"
   ]
  },
  {
   "cell_type": "markdown",
   "id": "cbeeb9cc",
   "metadata": {},
   "source": [
    "# Random Forest"
   ]
  },
  {
   "cell_type": "code",
   "execution_count": 22,
   "id": "ef4b7599",
   "metadata": {},
   "outputs": [],
   "source": [
    "from sklearn.model_selection import cross_val_score, ShuffleSplit\n",
    "from sklearn.ensemble import RandomForestClassifier"
   ]
  },
  {
   "cell_type": "code",
   "execution_count": 23,
   "id": "bbb7e909",
   "metadata": {},
   "outputs": [
    {
     "data": {
      "text/plain": [
       "0.75"
      ]
     },
     "execution_count": 23,
     "metadata": {},
     "output_type": "execute_result"
    }
   ],
   "source": [
    "rf = RandomForestClassifier(max_depth=10, n_jobs=10)\n",
    "rf_result_list = []\n",
    "rf.fit(Xs_train,ys_train)\n",
    "rf_result = pd.DataFrame({'Gene index':np.arange(len(genes)),\n",
    "              'Importance':rf.feature_importances_}).sort_values(by='Importance')\n",
    "rf_result_selected = rf_result[rf_result['Importance']!=0]\n",
    "rf_result_list.append(rf_result_selected)\n",
    "rf.score(Xs_test, ys_test)"
   ]
  },
  {
   "cell_type": "code",
   "execution_count": 27,
   "id": "a7c840d0",
   "metadata": {},
   "outputs": [
    {
     "data": {
      "text/plain": [
       "0.9166666666666666"
      ]
     },
     "execution_count": 27,
     "metadata": {},
     "output_type": "execute_result"
    }
   ],
   "source": [
    "# An accuracy improvement!\n",
    "rf.fit(Xs_train[:,rf_result_selected['Gene index']], ys_train)\n",
    "rf.score(Xs_test[:,rf_result_selected['Gene index']], ys_test)"
   ]
  },
  {
   "cell_type": "code",
   "execution_count": 28,
   "id": "256dcb8c",
   "metadata": {},
   "outputs": [],
   "source": [
    "# Save the RF model\n",
    "with open ('RF.pickle', 'wb') as file:\n",
    "    pickle.dump(rf, file)"
   ]
  },
  {
   "cell_type": "code",
   "execution_count": 8,
   "id": "be3c8901",
   "metadata": {},
   "outputs": [
    {
     "name": "stderr",
     "output_type": "stream",
     "text": [
      "/home/aimmunelab/anaconda3/envs/harristf/lib/python3.8/site-packages/sklearn/base.py:310: UserWarning: Trying to unpickle estimator DecisionTreeClassifier from version 0.24.1 when using version 0.24.2. This might lead to breaking code or invalid results. Use at your own risk.\n",
      "  warnings.warn(\n",
      "/home/aimmunelab/anaconda3/envs/harristf/lib/python3.8/site-packages/sklearn/base.py:310: UserWarning: Trying to unpickle estimator RandomForestClassifier from version 0.24.1 when using version 0.24.2. This might lead to breaking code or invalid results. Use at your own risk.\n",
      "  warnings.warn(\n"
     ]
    }
   ],
   "source": [
    "with open ('RF.pickle', 'rb') as file:\n",
    "    rf_load = pickle.load(file)"
   ]
  },
  {
   "cell_type": "code",
   "execution_count": 9,
   "id": "d9717ef7",
   "metadata": {},
   "outputs": [
    {
     "data": {
      "text/plain": [
       "array([0.        , 0.        , 0.        , 0.        , 0.        ,\n",
       "       0.        , 0.00085452, 0.        , 0.        , 0.        ,\n",
       "       0.        , 0.00260355, 0.00338837, 0.00150097, 0.00053922,\n",
       "       0.        , 0.        , 0.00036464, 0.        , 0.        ,\n",
       "       0.00158204, 0.        , 0.0008381 , 0.0004558 , 0.00585516,\n",
       "       0.        , 0.00489472, 0.00195268, 0.00372519, 0.        ,\n",
       "       0.00264662, 0.00452612, 0.        , 0.        , 0.        ,\n",
       "       0.00311998, 0.        , 0.        , 0.        , 0.00065089,\n",
       "       0.01216542, 0.        , 0.        , 0.        , 0.        ,\n",
       "       0.00298193, 0.        , 0.        , 0.0014399 , 0.0032457 ,\n",
       "       0.00062147, 0.        , 0.        , 0.        , 0.        ,\n",
       "       0.        , 0.        , 0.00166387, 0.        , 0.        ,\n",
       "       0.00080409, 0.        , 0.        , 0.        , 0.00435028,\n",
       "       0.        , 0.00286624, 0.        , 0.        , 0.00130178,\n",
       "       0.00150768, 0.00049699, 0.        , 0.        , 0.01464843,\n",
       "       0.        , 0.00539654, 0.00085452, 0.00304855, 0.        ,\n",
       "       0.        , 0.00235714, 0.        , 0.        , 0.00186309,\n",
       "       0.        , 0.00144648, 0.        , 0.        , 0.        ,\n",
       "       0.        , 0.00086517, 0.00090361, 0.00166387, 0.00093551,\n",
       "       0.        , 0.        , 0.        , 0.        , 0.        ,\n",
       "       0.01213178, 0.        , 0.01293561, 0.        , 0.00076744,\n",
       "       0.00255594, 0.00073225, 0.        , 0.        , 0.00152074,\n",
       "       0.000825  , 0.00166705, 0.        , 0.        , 0.00167963,\n",
       "       0.00531987, 0.0009189 , 0.00229741, 0.00190123, 0.        ,\n",
       "       0.        , 0.01305297, 0.00047143, 0.        , 0.        ,\n",
       "       0.        , 0.00172443, 0.        , 0.        , 0.00688512,\n",
       "       0.00396528, 0.        , 0.        , 0.        , 0.        ,\n",
       "       0.        , 0.00568827, 0.00379762, 0.00080734, 0.00177869,\n",
       "       0.00089704, 0.        , 0.00087006, 0.00129412, 0.        ,\n",
       "       0.        , 0.00084976, 0.        , 0.        , 0.        ,\n",
       "       0.00096338, 0.00277496, 0.        , 0.        , 0.        ,\n",
       "       0.        , 0.00158701, 0.0071297 , 0.00083564, 0.00081481,\n",
       "       0.00267271, 0.00245196, 0.01338201, 0.00267994, 0.0021615 ,\n",
       "       0.        , 0.        , 0.00354627, 0.        , 0.        ,\n",
       "       0.        , 0.        , 0.00071326, 0.0025111 , 0.        ,\n",
       "       0.00096338, 0.        , 0.00411827, 0.        , 0.00084098,\n",
       "       0.        , 0.00246652, 0.00146249, 0.00486106, 0.00667536,\n",
       "       0.        , 0.        , 0.        , 0.00171975, 0.        ,\n",
       "       0.00842211, 0.        , 0.00189655, 0.00088757, 0.00602273,\n",
       "       0.00345814, 0.00090535, 0.        , 0.00595926, 0.00283927,\n",
       "       0.00128333, 0.00882199, 0.        , 0.00086182, 0.00347368,\n",
       "       0.00291388, 0.        , 0.00984674, 0.        , 0.00256667,\n",
       "       0.        , 0.        , 0.        , 0.00090287, 0.00200452,\n",
       "       0.        , 0.        , 0.        , 0.01198809, 0.        ,\n",
       "       0.        , 0.00713183, 0.00305556, 0.        , 0.        ,\n",
       "       0.01025497, 0.00089796, 0.        , 0.        , 0.00048246,\n",
       "       0.00165   , 0.00557184, 0.00748352, 0.01665874, 0.00273179,\n",
       "       0.00452885, 0.        , 0.        , 0.00292611, 0.        ,\n",
       "       0.        , 0.        , 0.        , 0.        , 0.00194708,\n",
       "       0.0051664 , 0.00104849, 0.00430209, 0.00903992, 0.        ,\n",
       "       0.00542387, 0.        , 0.00168022, 0.        , 0.00110456,\n",
       "       0.00676732, 0.0135067 , 0.00128126, 0.        , 0.00429537,\n",
       "       0.        , 0.00310515, 0.        , 0.00725126, 0.00408601,\n",
       "       0.00578709, 0.00229015, 0.        , 0.        , 0.        ,\n",
       "       0.00266667, 0.00456471, 0.00090461, 0.00349359, 0.        ,\n",
       "       0.00314286, 0.        , 0.00964982, 0.00050926, 0.        ,\n",
       "       0.00717272, 0.        , 0.00070714, 0.003136  , 0.00350992,\n",
       "       0.02608543, 0.        , 0.        , 0.00177464, 0.        ,\n",
       "       0.        , 0.        , 0.00632221, 0.00902988, 0.00412336,\n",
       "       0.01782141, 0.        , 0.00092025, 0.005352  , 0.00277895,\n",
       "       0.0283082 , 0.00194118, 0.        , 0.00150955, 0.00487513,\n",
       "       0.00711751, 0.        , 0.00549278, 0.        , 0.01888505,\n",
       "       0.01543553, 0.        , 0.00090287, 0.        , 0.00108553,\n",
       "       0.0100157 , 0.00499528, 0.        , 0.00238981, 0.00186837,\n",
       "       0.00133402, 0.        , 0.        , 0.00079454, 0.        ,\n",
       "       0.00089601, 0.        , 0.        , 0.00998098, 0.02002861,\n",
       "       0.00193632, 0.        , 0.        , 0.        , 0.01317318,\n",
       "       0.        , 0.01095316, 0.00552968, 0.00528303, 0.00084184,\n",
       "       0.01109681, 0.00832091, 0.016918  , 0.        , 0.        ,\n",
       "       0.00369905, 0.0027193 , 0.01059804, 0.00170858, 0.00340388,\n",
       "       0.00081568, 0.00903215, 0.        , 0.01168371, 0.01805894,\n",
       "       0.        , 0.04226796, 0.00290019, 0.00166387, 0.00665909,\n",
       "       0.        , 0.        , 0.        , 0.00405992, 0.00454434,\n",
       "       0.00590802, 0.02012459, 0.00525429, 0.02703862, 0.01417984])"
      ]
     },
     "execution_count": 9,
     "metadata": {},
     "output_type": "execute_result"
    }
   ],
   "source": [
    "rf_load.feature_importances_"
   ]
  },
  {
   "cell_type": "code",
   "execution_count": 30,
   "id": "d93dd06e",
   "metadata": {},
   "outputs": [
    {
     "data": {
      "text/plain": [
       "0.9777777777777777"
      ]
     },
     "execution_count": 30,
     "metadata": {},
     "output_type": "execute_result"
    }
   ],
   "source": [
    "rf_load.score(Xs[:,rf_result_selected['Gene index']], ys)"
   ]
  },
  {
   "cell_type": "code",
   "execution_count": 31,
   "id": "05ed8292",
   "metadata": {},
   "outputs": [
    {
     "data": {
      "text/plain": [
       "array([[0.94, 0.01, 0.05],\n",
       "       [0.64, 0.06, 0.3 ],\n",
       "       [0.95, 0.01, 0.04],\n",
       "       [0.93, 0.03, 0.04],\n",
       "       [0.77, 0.08, 0.15],\n",
       "       [0.63, 0.12, 0.25],\n",
       "       [0.72, 0.04, 0.24],\n",
       "       [0.44, 0.13, 0.43],\n",
       "       [0.04, 0.62, 0.34],\n",
       "       [0.13, 0.05, 0.82],\n",
       "       [0.8 , 0.01, 0.19],\n",
       "       [0.19, 0.2 , 0.61]])"
      ]
     },
     "execution_count": 31,
     "metadata": {},
     "output_type": "execute_result"
    }
   ],
   "source": [
    "rf.predict_proba(Xs_test[:,rf_result_selected['Gene index']])"
   ]
  },
  {
   "cell_type": "code",
   "execution_count": 35,
   "id": "b82427d1",
   "metadata": {},
   "outputs": [],
   "source": [
    "pd.DataFrame({'Gene index':rf_result_selected['Gene index'].values,\n",
    "              'Gene name':genes[rf_result_selected['Gene index'].values]}).to_csv('RF_selected_genes.csv')"
   ]
  },
  {
   "cell_type": "code",
   "execution_count": 31,
   "id": "496f85cb",
   "metadata": {},
   "outputs": [
    {
     "name": "stderr",
     "output_type": "stream",
     "text": [
      "/tmp/ipykernel_142432/2856623931.py:4: SettingWithCopyWarning: \n",
      "A value is trying to be set on a copy of a slice from a DataFrame.\n",
      "Try using .loc[row_indexer,col_indexer] = value instead\n",
      "\n",
      "See the caveats in the documentation: https://pandas.pydata.org/pandas-docs/stable/user_guide/indexing.html#returning-a-view-versus-a-copy\n",
      "  rf_result_selected['Gene name'] = selected_genes\n"
     ]
    }
   ],
   "source": [
    "selected_genes = []\n",
    "for i in rf_result_selected['Gene index']:\n",
    "    selected_genes.append(genes[i])\n",
    "rf_result_selected['Gene name'] = selected_genes\n",
    "rf_result_selected.to_csv('RF_selected_genes.csv')"
   ]
  },
  {
   "cell_type": "code",
   "execution_count": 35,
   "id": "8935462e",
   "metadata": {},
   "outputs": [],
   "source": [
    "rf_result_selected.sort_values(by='Importance',ascending=False).to_csv('RF_selected_genes.csv')"
   ]
  },
  {
   "cell_type": "markdown",
   "id": "567fb025",
   "metadata": {},
   "source": [
    "# Recursive feature elimination"
   ]
  },
  {
   "cell_type": "code",
   "execution_count": 44,
   "id": "a8d5ce8d",
   "metadata": {},
   "outputs": [],
   "source": [
    "from sklearn.feature_selection import RFE\n",
    "from sklearn.svm import SVC"
   ]
  },
  {
   "cell_type": "code",
   "execution_count": 47,
   "id": "612793fb",
   "metadata": {},
   "outputs": [],
   "source": [
    "estimator = SVC(C=3, kernel='linear')\n",
    "selector = RFE(estimator)"
   ]
  },
  {
   "cell_type": "code",
   "execution_count": 48,
   "id": "7dbeed5e",
   "metadata": {},
   "outputs": [],
   "source": [
    "selector = selector.fit(Xs, ys)"
   ]
  },
  {
   "cell_type": "code",
   "execution_count": 49,
   "id": "bdd9f39c",
   "metadata": {},
   "outputs": [],
   "source": [
    "selected_genes = np.unique(np.append(np.unique(selector.ranking_[:1000,]),rf_result_selected['Gene index'].values))"
   ]
  },
  {
   "cell_type": "code",
   "execution_count": 50,
   "id": "db746db0",
   "metadata": {},
   "outputs": [],
   "source": [
    "selected_genes = pd.DataFrame({'Gene index':selected_genes,\n",
    "                               'Gene name': genes[selected_genes]})"
   ]
  },
  {
   "cell_type": "code",
   "execution_count": 51,
   "id": "d8781fed",
   "metadata": {},
   "outputs": [
    {
     "data": {
      "text/html": [
       "<div>\n",
       "<style scoped>\n",
       "    .dataframe tbody tr th:only-of-type {\n",
       "        vertical-align: middle;\n",
       "    }\n",
       "\n",
       "    .dataframe tbody tr th {\n",
       "        vertical-align: top;\n",
       "    }\n",
       "\n",
       "    .dataframe thead th {\n",
       "        text-align: right;\n",
       "    }\n",
       "</style>\n",
       "<table border=\"1\" class=\"dataframe\">\n",
       "  <thead>\n",
       "    <tr style=\"text-align: right;\">\n",
       "      <th></th>\n",
       "      <th>Gene index</th>\n",
       "      <th>Gene name</th>\n",
       "    </tr>\n",
       "  </thead>\n",
       "  <tbody>\n",
       "    <tr>\n",
       "      <th>0</th>\n",
       "      <td>1</td>\n",
       "      <td>JAG2</td>\n",
       "    </tr>\n",
       "    <tr>\n",
       "      <th>1</th>\n",
       "      <td>14</td>\n",
       "      <td>CNOT4</td>\n",
       "    </tr>\n",
       "    <tr>\n",
       "      <th>2</th>\n",
       "      <td>43</td>\n",
       "      <td>HIST1H4C</td>\n",
       "    </tr>\n",
       "    <tr>\n",
       "      <th>3</th>\n",
       "      <td>62</td>\n",
       "      <td>S100A8</td>\n",
       "    </tr>\n",
       "    <tr>\n",
       "      <th>4</th>\n",
       "      <td>67</td>\n",
       "      <td>ABCD1</td>\n",
       "    </tr>\n",
       "    <tr>\n",
       "      <th>...</th>\n",
       "      <td>...</td>\n",
       "      <td>...</td>\n",
       "    </tr>\n",
       "    <tr>\n",
       "      <th>1029</th>\n",
       "      <td>16946</td>\n",
       "      <td>FAM215A</td>\n",
       "    </tr>\n",
       "    <tr>\n",
       "      <th>1030</th>\n",
       "      <td>16967</td>\n",
       "      <td>RHCE</td>\n",
       "    </tr>\n",
       "    <tr>\n",
       "      <th>1031</th>\n",
       "      <td>17012</td>\n",
       "      <td>MTSS1L</td>\n",
       "    </tr>\n",
       "    <tr>\n",
       "      <th>1032</th>\n",
       "      <td>17030</td>\n",
       "      <td>NTN5</td>\n",
       "    </tr>\n",
       "    <tr>\n",
       "      <th>1033</th>\n",
       "      <td>17083</td>\n",
       "      <td>VPS9D1-AS1</td>\n",
       "    </tr>\n",
       "  </tbody>\n",
       "</table>\n",
       "<p>1034 rows × 2 columns</p>\n",
       "</div>"
      ],
      "text/plain": [
       "      Gene index   Gene name\n",
       "0              1        JAG2\n",
       "1             14       CNOT4\n",
       "2             43    HIST1H4C\n",
       "3             62      S100A8\n",
       "4             67       ABCD1\n",
       "...          ...         ...\n",
       "1029       16946     FAM215A\n",
       "1030       16967        RHCE\n",
       "1031       17012      MTSS1L\n",
       "1032       17030        NTN5\n",
       "1033       17083  VPS9D1-AS1\n",
       "\n",
       "[1034 rows x 2 columns]"
      ]
     },
     "execution_count": 51,
     "metadata": {},
     "output_type": "execute_result"
    }
   ],
   "source": [
    "selected_genes"
   ]
  },
  {
   "cell_type": "code",
   "execution_count": 88,
   "id": "08f0d88a",
   "metadata": {},
   "outputs": [],
   "source": [
    "selected_genes.to_csv('selected_genes.csv')"
   ]
  },
  {
   "cell_type": "code",
   "execution_count": 5,
   "id": "fc95a6d5",
   "metadata": {},
   "outputs": [
    {
     "data": {
      "text/plain": [
       "0          JAG2\n",
       "1         RPS16\n",
       "2          CFL1\n",
       "3        OGFRL1\n",
       "4       TMEM245\n",
       "         ...   \n",
       "963    ARHGEF37\n",
       "964     SLC15A5\n",
       "965       ASB14\n",
       "966    ARHGAP36\n",
       "967      ZNF564\n",
       "Name: Gene name, Length: 968, dtype: object"
      ]
     },
     "execution_count": 5,
     "metadata": {},
     "output_type": "execute_result"
    }
   ],
   "source": [
    "np.savetxt('Severity_related'pd.read_csv('selected_genes.csv', index_col='Unnamed: 0')['Gene name'])"
   ]
  },
  {
   "cell_type": "code",
   "execution_count": 41,
   "id": "f81bb32f",
   "metadata": {},
   "outputs": [
    {
     "data": {
      "text/html": [
       "<div>\n",
       "<style scoped>\n",
       "    .dataframe tbody tr th:only-of-type {\n",
       "        vertical-align: middle;\n",
       "    }\n",
       "\n",
       "    .dataframe tbody tr th {\n",
       "        vertical-align: top;\n",
       "    }\n",
       "\n",
       "    .dataframe thead th {\n",
       "        text-align: right;\n",
       "    }\n",
       "</style>\n",
       "<table border=\"1\" class=\"dataframe\">\n",
       "  <thead>\n",
       "    <tr style=\"text-align: right;\">\n",
       "      <th></th>\n",
       "      <th>From</th>\n",
       "      <th>To</th>\n",
       "      <th>Species</th>\n",
       "      <th>Gene Name</th>\n",
       "    </tr>\n",
       "  </thead>\n",
       "  <tbody>\n",
       "    <tr>\n",
       "      <th>0</th>\n",
       "      <td>OXTR</td>\n",
       "      <td>5021</td>\n",
       "      <td>Homo sapiens</td>\n",
       "      <td>oxytocin receptor(OXTR)</td>\n",
       "    </tr>\n",
       "    <tr>\n",
       "      <th>1</th>\n",
       "      <td>CERK</td>\n",
       "      <td>64781</td>\n",
       "      <td>Homo sapiens</td>\n",
       "      <td>ceramide kinase(CERK)</td>\n",
       "    </tr>\n",
       "    <tr>\n",
       "      <th>2</th>\n",
       "      <td>MYT1L</td>\n",
       "      <td>23040</td>\n",
       "      <td>Homo sapiens</td>\n",
       "      <td>myelin transcription factor 1 like(MYT1L)</td>\n",
       "    </tr>\n",
       "    <tr>\n",
       "      <th>3</th>\n",
       "      <td>WIPF2</td>\n",
       "      <td>147179</td>\n",
       "      <td>Homo sapiens</td>\n",
       "      <td>WAS/WASL interacting protein family member 2(W...</td>\n",
       "    </tr>\n",
       "    <tr>\n",
       "      <th>4</th>\n",
       "      <td>GABPB1</td>\n",
       "      <td>2553</td>\n",
       "      <td>Homo sapiens</td>\n",
       "      <td>GA binding protein transcription factor beta s...</td>\n",
       "    </tr>\n",
       "    <tr>\n",
       "      <th>...</th>\n",
       "      <td>...</td>\n",
       "      <td>...</td>\n",
       "      <td>...</td>\n",
       "      <td>...</td>\n",
       "    </tr>\n",
       "    <tr>\n",
       "      <th>362</th>\n",
       "      <td>RAB13</td>\n",
       "      <td>5872</td>\n",
       "      <td>Homo sapiens</td>\n",
       "      <td>RAB13, member RAS oncogene family(RAB13)</td>\n",
       "    </tr>\n",
       "    <tr>\n",
       "      <th>363</th>\n",
       "      <td>SPRY2</td>\n",
       "      <td>10253</td>\n",
       "      <td>Homo sapiens</td>\n",
       "      <td>sprouty RTK signaling antagonist 2(SPRY2)</td>\n",
       "    </tr>\n",
       "    <tr>\n",
       "      <th>364</th>\n",
       "      <td>BCOR</td>\n",
       "      <td>54880</td>\n",
       "      <td>Homo sapiens</td>\n",
       "      <td>BCL6 corepressor(BCOR)</td>\n",
       "    </tr>\n",
       "    <tr>\n",
       "      <th>365</th>\n",
       "      <td>FSIP1</td>\n",
       "      <td>161835</td>\n",
       "      <td>Homo sapiens</td>\n",
       "      <td>fibrous sheath interacting protein 1(FSIP1)</td>\n",
       "    </tr>\n",
       "    <tr>\n",
       "      <th>366</th>\n",
       "      <td>MMACHC</td>\n",
       "      <td>25974</td>\n",
       "      <td>Homo sapiens</td>\n",
       "      <td>methylmalonic aciduria (cobalamin deficiency) ...</td>\n",
       "    </tr>\n",
       "  </tbody>\n",
       "</table>\n",
       "<p>367 rows × 4 columns</p>\n",
       "</div>"
      ],
      "text/plain": [
       "       From      To       Species  \\\n",
       "0      OXTR    5021  Homo sapiens   \n",
       "1      CERK   64781  Homo sapiens   \n",
       "2     MYT1L   23040  Homo sapiens   \n",
       "3     WIPF2  147179  Homo sapiens   \n",
       "4    GABPB1    2553  Homo sapiens   \n",
       "..      ...     ...           ...   \n",
       "362   RAB13    5872  Homo sapiens   \n",
       "363   SPRY2   10253  Homo sapiens   \n",
       "364    BCOR   54880  Homo sapiens   \n",
       "365   FSIP1  161835  Homo sapiens   \n",
       "366  MMACHC   25974  Homo sapiens   \n",
       "\n",
       "                                             Gene Name  \n",
       "0                              oxytocin receptor(OXTR)  \n",
       "1                                ceramide kinase(CERK)  \n",
       "2            myelin transcription factor 1 like(MYT1L)  \n",
       "3    WAS/WASL interacting protein family member 2(W...  \n",
       "4    GA binding protein transcription factor beta s...  \n",
       "..                                                 ...  \n",
       "362           RAB13, member RAS oncogene family(RAB13)  \n",
       "363          sprouty RTK signaling antagonist 2(SPRY2)  \n",
       "364                             BCL6 corepressor(BCOR)  \n",
       "365        fibrous sheath interacting protein 1(FSIP1)  \n",
       "366  methylmalonic aciduria (cobalamin deficiency) ...  \n",
       "\n",
       "[367 rows x 4 columns]"
      ]
     },
     "execution_count": 41,
     "metadata": {},
     "output_type": "execute_result"
    }
   ],
   "source": [
    "pd.read_table('RF_selected_genes_converted.txt')[]"
   ]
  },
  {
   "cell_type": "code",
   "execution_count": null,
   "id": "fe2aa74b",
   "metadata": {},
   "outputs": [],
   "source": []
  }
 ],
 "metadata": {
  "kernelspec": {
   "display_name": "Python 3 (ipykernel)",
   "language": "python",
   "name": "python3"
  },
  "language_info": {
   "codemirror_mode": {
    "name": "ipython",
    "version": 3
   },
   "file_extension": ".py",
   "mimetype": "text/x-python",
   "name": "python",
   "nbconvert_exporter": "python",
   "pygments_lexer": "ipython3",
   "version": "3.8.10"
  }
 },
 "nbformat": 4,
 "nbformat_minor": 5
}
