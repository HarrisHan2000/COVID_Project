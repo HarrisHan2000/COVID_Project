{
 "cells": [
  {
   "cell_type": "code",
   "execution_count": 1,
   "id": "a083684c",
   "metadata": {},
   "outputs": [
    {
     "name": "stderr",
     "output_type": "stream",
     "text": [
      "2021-11-24 21:41:39.240631: I tensorflow/stream_executor/platform/default/dso_loader.cc:53] Successfully opened dynamic library libcudart.so.11.0\n"
     ]
    }
   ],
   "source": [
    "import pandas as pd\n",
    "import numpy as np\n",
    "from sklearn.linear_model import LogisticRegression\n",
    "from sklearn.preprocessing import StandardScaler\n",
    "from sklearn.model_selection import train_test_split\n",
    "from sklearn.linear_model import Lasso\n",
    "from sklearn.ensemble import RandomForestClassifier\n",
    "import tensorflow as tf\n",
    "import os as os\n",
    "import pickle"
   ]
  },
  {
   "cell_type": "code",
   "execution_count": 2,
   "id": "f650ef54",
   "metadata": {},
   "outputs": [],
   "source": [
    "file_list = os.listdir()"
   ]
  },
  {
   "cell_type": "code",
   "execution_count": 3,
   "id": "e8e43b41",
   "metadata": {},
   "outputs": [],
   "source": [
    "# Transform the datasets into Xs and Ys\n",
    "def TransformSamples3 (sample1, sample2, sample3):\n",
    "    sample1 = sample1.T.to_numpy()[1:]\n",
    "    sample2 = sample2.T.to_numpy()[1:]\n",
    "    sample3 = sample3.T.to_numpy()[1:]\n",
    "    x = np.append(sample1, sample2, axis=0).astype('float32')\n",
    "    x = np.append(x, sample3, axis=0).astype('float32')\n",
    "    y = np.array([0]*len(sample1) + [1]*len(sample2)+[2]*len(sample3))\n",
    "    return x, y"
   ]
  },
  {
   "cell_type": "code",
   "execution_count": 4,
   "id": "94cf1010",
   "metadata": {},
   "outputs": [],
   "source": [
    "healthy_group_filename = []\n",
    "moderate_group_filename = []\n",
    "severe_group_filename = []\n",
    "for i in file_list:\n",
    "    if 'Healthy' in i:\n",
    "        healthy_group_filename.append(i)\n",
    "        continue\n",
    "    if 'Moderate' in i:\n",
    "        moderate_group_filename.append(i)\n",
    "        continue\n",
    "    if 'Severe' in i:\n",
    "        severe_group_filename.append(i)\n",
    "        continue"
   ]
  },
  {
   "cell_type": "code",
   "execution_count": 5,
   "id": "ae625c74",
   "metadata": {},
   "outputs": [],
   "source": [
    "healthy_group = []\n",
    "moderate_group = []\n",
    "severe_group = []\n",
    "for i in healthy_group_filename:\n",
    "    healthy_group.append(pd.read_csv(i, index_col='Unnamed: 0'))\n",
    "for i in moderate_group_filename:\n",
    "    moderate_group.append(pd.read_csv(i, index_col='Unnamed: 0'))\n",
    "for i in severe_group_filename:\n",
    "    severe_group.append(pd.read_csv(i, index_col='Unnamed: 0'))"
   ]
  },
  {
   "cell_type": "code",
   "execution_count": 6,
   "id": "e3636d34",
   "metadata": {},
   "outputs": [
    {
     "data": {
      "text/plain": [
       "[         Genename       Counts    Sample\n",
       " 0            B9D2  1245.169400  Severe 3\n",
       " 1            JAG2     6.079997  Severe 3\n",
       " 2          DNASE1   427.077100  Severe 3\n",
       " 3            TRMU   491.825530  Severe 3\n",
       " 4            RRP9   374.227600  Severe 3\n",
       " ...           ...          ...       ...\n",
       " 17201       FOXF1     0.000000  Severe 3\n",
       " 17202  AC092316.1     0.000000  Severe 3\n",
       " 17203   FOXP1-AS1     0.000000  Severe 3\n",
       " 17204     ANKRD61     0.000000  Severe 3\n",
       " 17205   TNKS2-AS1    12.892557  Severe 3\n",
       " \n",
       " [17206 rows x 3 columns],\n",
       "          Genename      Counts    Sample\n",
       " 0            B9D2  873.285770  Severe 1\n",
       " 1            JAG2    8.139229  Severe 1\n",
       " 2          DNASE1  497.972700  Severe 1\n",
       " 3            TRMU  954.037960  Severe 1\n",
       " 4            RRP9  905.841400  Severe 1\n",
       " ...           ...         ...       ...\n",
       " 17201       FOXF1   12.618297  Severe 1\n",
       " 17202  AC092316.1    0.000000  Severe 1\n",
       " 17203   FOXP1-AS1    3.496724  Severe 1\n",
       " 17204     ANKRD61    0.000000  Severe 1\n",
       " 17205   TNKS2-AS1   49.778427  Severe 1\n",
       " \n",
       " [17206 rows x 3 columns],\n",
       "          Genename       Counts     Sample\n",
       " 0            B9D2   560.518600  Severe 10\n",
       " 1            JAG2   210.621570  Severe 10\n",
       " 2          DNASE1  1569.110600  Severe 10\n",
       " 3            TRMU  1369.009300  Severe 10\n",
       " 4            RRP9   465.784600  Severe 10\n",
       " ...           ...          ...        ...\n",
       " 17201       FOXF1    53.347794  Severe 10\n",
       " 17202  AC092316.1     6.407103  Severe 10\n",
       " 17203   FOXP1-AS1    52.781906  Severe 10\n",
       " 17204     ANKRD61     6.884032  Severe 10\n",
       " 17205   TNKS2-AS1     2.121854  Severe 10\n",
       " \n",
       " [17206 rows x 3 columns],\n",
       "          Genename       Counts    Sample\n",
       " 0            B9D2   942.786560  Severe 2\n",
       " 1            JAG2    13.075047  Severe 2\n",
       " 2          DNASE1   846.918700  Severe 2\n",
       " 3            TRMU  1412.561600  Severe 2\n",
       " 4            RRP9  1274.152000  Severe 2\n",
       " ...           ...          ...       ...\n",
       " 17201       FOXF1     0.000000  Severe 2\n",
       " 17202  AC092316.1     0.000000  Severe 2\n",
       " 17203   FOXP1-AS1     5.707495  Severe 2\n",
       " 17204     ANKRD61     0.000000  Severe 2\n",
       " 17205   TNKS2-AS1    18.619375  Severe 2\n",
       " \n",
       " [17206 rows x 3 columns],\n",
       "          Genename       Counts    Sample\n",
       " 0            B9D2  2589.838100  Severe 5\n",
       " 1            JAG2     9.521463  Severe 5\n",
       " 2          DNASE1  1160.954300  Severe 5\n",
       " 3            TRMU   931.492900  Severe 5\n",
       " 4            RRP9   424.106380  Severe 5\n",
       " ...           ...          ...       ...\n",
       " 17201       FOXF1     0.000000  Severe 5\n",
       " 17202  AC092316.1     0.000000  Severe 5\n",
       " 17203   FOXP1-AS1    20.079092  Severe 5\n",
       " 17204     ANKRD61     2.981515  Severe 5\n",
       " 17205   TNKS2-AS1    29.549898  Severe 5\n",
       " \n",
       " [17206 rows x 3 columns],\n",
       "          Genename      Counts    Sample\n",
       " 0            B9D2  145.248050  Severe 8\n",
       " 1            JAG2  167.842930  Severe 8\n",
       " 2          DNASE1  501.463320  Severe 8\n",
       " 3            TRMU  654.631400  Severe 8\n",
       " 4            RRP9  213.004790  Severe 8\n",
       " ...           ...         ...       ...\n",
       " 17201       FOXF1   55.147060  Severe 8\n",
       " 17202  AC092316.1   32.467533  Severe 8\n",
       " 17203   FOXP1-AS1   52.016838  Severe 8\n",
       " 17204     ANKRD61    0.000000  Severe 8\n",
       " 17205   TNKS2-AS1   33.333336  Severe 8\n",
       " \n",
       " [17206 rows x 3 columns],\n",
       "          Genename      Counts    Sample\n",
       " 0            B9D2  353.388300  Severe 0\n",
       " 1            JAG2    7.452002  Severe 0\n",
       " 2          DNASE1   18.534513  Severe 0\n",
       " 3            TRMU  192.102140  Severe 0\n",
       " 4            RRP9   84.225090  Severe 0\n",
       " ...           ...         ...       ...\n",
       " 17201       FOXF1    0.000000  Severe 0\n",
       " 17202  AC092316.1    0.000000  Severe 0\n",
       " 17203   FOXP1-AS1    0.000000  Severe 0\n",
       " 17204     ANKRD61    0.000000  Severe 0\n",
       " 17205   TNKS2-AS1    9.294121  Severe 0\n",
       " \n",
       " [17206 rows x 3 columns],\n",
       "          Genename       Counts    Sample\n",
       " 0            B9D2  1538.445400  Severe 4\n",
       " 1            JAG2     1.584786  Severe 4\n",
       " 2          DNASE1   524.610900  Severe 4\n",
       " 3            TRMU   294.459350  Severe 4\n",
       " 4            RRP9   257.379580  Severe 4\n",
       " ...           ...          ...       ...\n",
       " 17201       FOXF1     0.000000  Severe 4\n",
       " 17202  AC092316.1     0.000000  Severe 4\n",
       " 17203   FOXP1-AS1     0.000000  Severe 4\n",
       " 17204     ANKRD61     0.000000  Severe 4\n",
       " 17205   TNKS2-AS1     0.000000  Severe 4\n",
       " \n",
       " [17206 rows x 3 columns],\n",
       "          Genename      Counts     Sample\n",
       " 0            B9D2  295.262400  Severe 13\n",
       " 1            JAG2   24.086374  Severe 13\n",
       " 2          DNASE1  726.067440  Severe 13\n",
       " 3            TRMU  357.593380  Severe 13\n",
       " 4            RRP9  100.944180  Severe 13\n",
       " ...           ...         ...        ...\n",
       " 17201       FOXF1    3.667851  Severe 13\n",
       " 17202  AC092316.1    3.956207  Severe 13\n",
       " 17203   FOXP1-AS1   13.598816  Severe 13\n",
       " 17204     ANKRD61    1.397819  Severe 13\n",
       " 17205   TNKS2-AS1    5.187511  Severe 13\n",
       " \n",
       " [17206 rows x 3 columns],\n",
       "          Genename       Counts    Sample\n",
       " 0            B9D2  1305.933300  Severe 6\n",
       " 1            JAG2   129.846730  Severe 6\n",
       " 2          DNASE1  1849.774300  Severe 6\n",
       " 3            TRMU  1416.563100  Severe 6\n",
       " 4            RRP9   591.926700  Severe 6\n",
       " ...           ...          ...       ...\n",
       " 17201       FOXF1     6.053269  Severe 6\n",
       " 17202  AC092316.1    13.286356  Severe 6\n",
       " 17203   FOXP1-AS1    45.861570  Severe 6\n",
       " 17204     ANKRD61    48.745117  Severe 6\n",
       " 17205   TNKS2-AS1    71.317220  Severe 6\n",
       " \n",
       " [17206 rows x 3 columns],\n",
       "          Genename       Counts     Sample\n",
       " 0            B9D2   818.448360  Severe 11\n",
       " 1            JAG2    77.485740  Severe 11\n",
       " 2          DNASE1  3163.216300  Severe 11\n",
       " 3            TRMU  1816.007000  Severe 11\n",
       " 4            RRP9   598.302730  Severe 11\n",
       " ...           ...          ...        ...\n",
       " 17201       FOXF1    12.770911  Severe 11\n",
       " 17202  AC092316.1    12.072504  Severe 11\n",
       " 17203   FOXP1-AS1    67.932620  Severe 11\n",
       " 17204     ANKRD61    35.784786  Severe 11\n",
       " 17205   TNKS2-AS1    24.366234  Severe 11\n",
       " \n",
       " [17206 rows x 3 columns],\n",
       "          Genename       Counts    Sample\n",
       " 0            B9D2   365.226140  Severe 9\n",
       " 1            JAG2   125.011310  Severe 9\n",
       " 2          DNASE1  1044.607800  Severe 9\n",
       " 3            TRMU  1055.183700  Severe 9\n",
       " 4            RRP9   303.131400  Severe 9\n",
       " ...           ...          ...       ...\n",
       " 17201       FOXF1   106.586530  Severe 9\n",
       " 17202  AC092316.1     0.000000  Severe 9\n",
       " 17203   FOXP1-AS1    77.099270  Severe 9\n",
       " 17204     ANKRD61    54.600574  Severe 9\n",
       " 17205   TNKS2-AS1    22.624435  Severe 9\n",
       " \n",
       " [17206 rows x 3 columns]]"
      ]
     },
     "execution_count": 6,
     "metadata": {},
     "output_type": "execute_result"
    }
   ],
   "source": [
    "severe_group"
   ]
  },
  {
   "cell_type": "code",
   "execution_count": 15,
   "id": "5724c069",
   "metadata": {},
   "outputs": [],
   "source": [
    "genes = healthy_group[0]['Genename'].values"
   ]
  },
  {
   "cell_type": "code",
   "execution_count": 11,
   "id": "91f15190",
   "metadata": {},
   "outputs": [],
   "source": [
    "from sklearn.preprocessing import MinMaxScaler"
   ]
  },
  {
   "cell_type": "code",
   "execution_count": 12,
   "id": "9c2f2f67",
   "metadata": {},
   "outputs": [],
   "source": [
    "scaler = MinMaxScaler()\n",
    "Xs = []\n",
    "ys = []\n",
    "for i in healthy_group:\n",
    "    Xs.append(scaler.fit_transform(np.log1p(i['Counts'].values).reshape(-1,1)).flatten())\n",
    "    ys.append(0)\n",
    "for i in moderate_group:\n",
    "    Xs.append(scaler.fit_transform(np.log1p(i['Counts'].values).reshape(-1,1)).flatten())\n",
    "    ys.append(1)\n",
    "for i in severe_group:\n",
    "    Xs.append(scaler.fit_transform(np.log1p(i['Counts'].values).reshape(-1,1)).flatten())\n",
    "    ys.append(2)\n",
    "Xs = np.array(Xs)\n",
    "ys = np.array(ys)"
   ]
  },
  {
   "cell_type": "code",
   "execution_count": 13,
   "id": "3792cfe8",
   "metadata": {},
   "outputs": [],
   "source": [
    "Xs_train, Xs_test = train_test_split(Xs, random_state=7)\n",
    "ys_train, ys_test = train_test_split(ys, random_state=7)"
   ]
  },
  {
   "cell_type": "code",
   "execution_count": 13,
   "id": "3262123d",
   "metadata": {},
   "outputs": [],
   "source": [
    "np.save('ys_severity', ys)"
   ]
  },
  {
   "cell_type": "markdown",
   "id": "cbeeb9cc",
   "metadata": {},
   "source": [
    "# Random Forest"
   ]
  },
  {
   "cell_type": "code",
   "execution_count": 103,
   "id": "ef4b7599",
   "metadata": {},
   "outputs": [],
   "source": [
    "from sklearn.model_selection import cross_val_score, ShuffleSplit\n",
    "from sklearn.ensemble import RandomForestClassifier"
   ]
  },
  {
   "cell_type": "code",
   "execution_count": 19,
   "id": "bbb7e909",
   "metadata": {},
   "outputs": [
    {
     "data": {
      "text/plain": [
       "0.8333333333333334"
      ]
     },
     "execution_count": 19,
     "metadata": {},
     "output_type": "execute_result"
    }
   ],
   "source": [
    "rf = RandomForestClassifier(max_depth=10, n_jobs=10)\n",
    "rf_result_list = []\n",
    "rf.fit(Xs_train,ys_train)\n",
    "rf_result = pd.DataFrame({'Gene index':np.arange(len(genes)),\n",
    "              'Importance':rf.feature_importances_}).sort_values(by='Importance')\n",
    "#rf_result_selected = rf_result[rf_result['Importance']!=0]\n",
    "#rf_result_list.append(rf_result_selected)\n",
    "rf.score(Xs_test, ys_test)"
   ]
  },
  {
   "cell_type": "code",
   "execution_count": 41,
   "id": "b3bd7a74",
   "metadata": {},
   "outputs": [],
   "source": [
    "from sklearn.metrics import recall_score\n",
    "from sklearn.metrics import confusion_matrix\n",
    "from sklearn.metrics import precision_score"
   ]
  },
  {
   "cell_type": "code",
   "execution_count": 68,
   "id": "601eade6",
   "metadata": {},
   "outputs": [
    {
     "name": "stdout",
     "output_type": "stream",
     "text": [
      "0.8333333333333334\n",
      "0.8333333333333334\n"
     ]
    },
    {
     "data": {
      "text/plain": [
       "Text(137.16666666666669, 0.5, 'Truth')"
      ]
     },
     "execution_count": 68,
     "metadata": {},
     "output_type": "execute_result"
    },
    {
     "data": {
      "image/png": "[encoded data removed]",
      "text/plain": [
       "<Figure size 1800x1200 with 2 Axes>"
      ]
     },
     "metadata": {
      "needs_background": "light"
     },
     "output_type": "display_data"
    }
   ],
   "source": [
    "import seaborn as sns\n",
    "print(recall_score(ys_test, rf.predict(Xs_test), average='micro'))\n",
    "print(precision_score(ys_test, rf.predict(Xs_test), average='micro'))\n",
    "c1 = confusion_matrix(ys_test, rf.predict(Xs_test))\n",
    "c1_prob = []\n",
    "for i in c1:\n",
    "    c1_prob.append(i/i.sum())\n",
    "plt.figure(dpi=300)\n",
    "ax = sns.heatmap(c1_prob,annot=True)\n",
    "ax.set_title('Confusion matrix (all features)')\n",
    "ax.set_xlabel('Prediction')\n",
    "ax.set_ylabel('Truth')"
   ]
  },
  {
   "cell_type": "code",
   "execution_count": 24,
   "id": "caaa00a0",
   "metadata": {},
   "outputs": [],
   "source": [
    "rf_result_selected = pd.read_csv('RF_selected_genes.csv', index_col = 'Unnamed: 0')"
   ]
  },
  {
   "cell_type": "code",
   "execution_count": 31,
   "id": "a7c840d0",
   "metadata": {},
   "outputs": [
    {
     "data": {
      "text/plain": [
       "0.9166666666666666"
      ]
     },
     "execution_count": 31,
     "metadata": {},
     "output_type": "execute_result"
    }
   ],
   "source": [
    "# An accuracy improvement!\n",
    "rf_new = RandomForestClassifier(max_depth=10, n_jobs=10)\n",
    "rf_new.fit(Xs_train[:,rf_result_selected['Gene index']], ys_train)\n",
    "rf_new.score(Xs_test[:,rf_result_selected['Gene index']], ys_test)"
   ]
  },
  {
   "cell_type": "code",
   "execution_count": 67,
   "id": "00e4a32b",
   "metadata": {},
   "outputs": [
    {
     "name": "stdout",
     "output_type": "stream",
     "text": [
      "0.9166666666666666\n",
      "0.9166666666666666\n"
     ]
    },
    {
     "data": {
      "text/plain": [
       "Text(137.16666666666669, 0.5, 'Truth')"
      ]
     },
     "execution_count": 67,
     "metadata": {},
     "output_type": "execute_result"
    },
    {
     "data": {
      "image/png": "[encoded data removed]",
      "text/plain": [
       "<Figure size 1800x1200 with 2 Axes>"
      ]
     },
     "metadata": {
      "needs_background": "light"
     },
     "output_type": "display_data"
    }
   ],
   "source": [
    "print(recall_score(ys_test, rf_new.predict(Xs_test[:,rf_result_selected['Gene index']]), average='micro'))\n",
    "print(precision_score(ys_test, rf_new.predict(Xs_test[:,rf_result_selected['Gene index']]), average='micro'))\n",
    "c2 = confusion_matrix(ys_test, rf_new.predict(Xs_test[:,rf_result_selected['Gene index']]))\n",
    "c2_prob = []\n",
    "for i in c2:\n",
    "    c2_prob.append(i/i.sum())\n",
    "plt.figure(dpi=300)\n",
    "ax = sns.heatmap(c2_prob,annot=True,)\n",
    "ax.set_title('Confusion matrix (selected features)')\n",
    "ax.set_xlabel('Prediction')\n",
    "ax.set_ylabel('Truth')"
   ]
  },
  {
   "cell_type": "code",
   "execution_count": 20,
   "id": "256dcb8c",
   "metadata": {},
   "outputs": [],
   "source": [
    "# Save the RF model\n",
    "with open ('RF.pickle', 'wb') as file:\n",
    "    pickle.dump(rf, file)"
   ]
  },
  {
   "cell_type": "code",
   "execution_count": 21,
   "id": "be3c8901",
   "metadata": {},
   "outputs": [],
   "source": [
    "with open ('RF.pickle', 'rb') as file:\n",
    "    rf_load = pickle.load(file)"
   ]
  },
  {
   "cell_type": "code",
   "execution_count": 22,
   "id": "9c55bfcc",
   "metadata": {},
   "outputs": [
    {
     "data": {
      "text/plain": [
       "array([0.        , 0.        , 0.        , 0.        , 0.00290834,\n",
       "       0.        , 0.        , 0.        , 0.        , 0.        ,\n",
       "       0.00073881, 0.        , 0.00305556, 0.        , 0.        ,\n",
       "       0.        , 0.00361842, 0.00099564, 0.        , 0.        ,\n",
       "       0.00084615, 0.00406433, 0.        , 0.        , 0.        ,\n",
       "       0.        , 0.        , 0.        , 0.        , 0.        ,\n",
       "       0.        , 0.        , 0.        , 0.        , 0.00459069,\n",
       "       0.        , 0.        , 0.        , 0.00457569, 0.        ,\n",
       "       0.        , 0.        , 0.00088   , 0.00091667, 0.        ,\n",
       "       0.        , 0.        , 0.        , 0.        , 0.        ,\n",
       "       0.        , 0.        , 0.        , 0.        , 0.        ,\n",
       "       0.        , 0.        , 0.        , 0.00409582, 0.        ,\n",
       "       0.        , 0.        , 0.        , 0.        , 0.        ,\n",
       "       0.        , 0.00086075, 0.00090815, 0.        , 0.        ,\n",
       "       0.        , 0.0012375 , 0.        , 0.01162561, 0.00310754,\n",
       "       0.00177377, 0.        , 0.        , 0.00045833, 0.        ,\n",
       "       0.00439006, 0.        , 0.        , 0.        , 0.        ,\n",
       "       0.00093551, 0.00067485, 0.00397182, 0.        , 0.        ,\n",
       "       0.        , 0.00189569, 0.        , 0.00085566, 0.        ,\n",
       "       0.00149153, 0.        , 0.        , 0.        , 0.        ,\n",
       "       0.        , 0.        , 0.00089069, 0.        , 0.00202247,\n",
       "       0.        , 0.00176   , 0.        , 0.        , 0.        ,\n",
       "       0.        , 0.        , 0.04625992, 0.        , 0.0045    ,\n",
       "       0.        , 0.01687154, 0.        , 0.00573964, 0.        ,\n",
       "       0.00552338, 0.        , 0.00732723, 0.        , 0.00172549,\n",
       "       0.        , 0.00389908, 0.        , 0.        , 0.        ,\n",
       "       0.        , 0.00893588, 0.00763346, 0.00192163, 0.        ,\n",
       "       0.        , 0.        , 0.00080734, 0.00714499, 0.        ,\n",
       "       0.        , 0.00424861, 0.        , 0.00079582, 0.00475586,\n",
       "       0.00097697, 0.00802587, 0.00085938, 0.00063953, 0.00218195,\n",
       "       0.00860604, 0.        , 0.0113251 , 0.00099524, 0.        ,\n",
       "       0.00306977, 0.00877921, 0.        , 0.        , 0.        ,\n",
       "       0.01936755, 0.00361842, 0.        , 0.00361842, 0.        ,\n",
       "       0.        , 0.        , 0.        , 0.        , 0.        ,\n",
       "       0.        , 0.00090815, 0.00178636, 0.        , 0.        ,\n",
       "       0.        , 0.        , 0.        , 0.01792363, 0.00212143,\n",
       "       0.        , 0.00151685, 0.        , 0.        , 0.        ,\n",
       "       0.        , 0.00799768, 0.00444944, 0.02803078, 0.00682278,\n",
       "       0.00394068, 0.        , 0.00212577, 0.        , 0.        ,\n",
       "       0.        , 0.        , 0.00354627, 0.00413323, 0.00602555,\n",
       "       0.        , 0.        , 0.        , 0.00278963, 0.        ,\n",
       "       0.        , 0.011398  , 0.00220445, 0.        , 0.00582985,\n",
       "       0.        , 0.        , 0.        , 0.00641249, 0.0321892 ,\n",
       "       0.00416842, 0.        , 0.01245636, 0.        , 0.00047143,\n",
       "       0.        , 0.01680653, 0.00941244, 0.        , 0.        ,\n",
       "       0.        , 0.00391318, 0.        , 0.        , 0.00237752,\n",
       "       0.00291566, 0.00766127, 0.        , 0.        , 0.        ,\n",
       "       0.00539332, 0.00087176, 0.0046253 , 0.        , 0.02023409,\n",
       "       0.00095311, 0.        , 0.00084148, 0.00415204, 0.00398422,\n",
       "       0.00817793, 0.        , 0.00424561, 0.00127709, 0.02688719,\n",
       "       0.01945991, 0.        , 0.        , 0.00452344, 0.        ,\n",
       "       0.        , 0.00304198, 0.0027677 , 0.01376302, 0.0275717 ,\n",
       "       0.        , 0.00522664, 0.00183333, 0.01593989, 0.00080816,\n",
       "       0.        , 0.00464286, 0.        , 0.00699645, 0.00409944,\n",
       "       0.02690852, 0.00916876, 0.        , 0.00562012, 0.00290834,\n",
       "       0.        , 0.        , 0.        , 0.        , 0.        ,\n",
       "       0.00517992, 0.00418648, 0.01147884, 0.00298193, 0.00549089,\n",
       "       0.00121664, 0.00244283, 0.        , 0.0004558 , 0.03001683,\n",
       "       0.00705162, 0.        , 0.00562015, 0.00714859, 0.        ,\n",
       "       0.02346978, 0.00398119, 0.0109685 , 0.00157143, 0.01045806,\n",
       "       0.00730817, 0.00611444, 0.00407575, 0.01579298, 0.0083575 ,\n",
       "       0.0045678 , 0.00508667, 0.00429332, 0.        , 0.00182209,\n",
       "       0.00518116, 0.00480381, 0.00492357, 0.00246268, 0.0146705 ,\n",
       "       0.03304998, 0.        , 0.00961031, 0.00730556, 0.00639056,\n",
       "       0.0009059 ])"
      ]
     },
     "execution_count": 22,
     "metadata": {},
     "output_type": "execute_result"
    }
   ],
   "source": [
    "rf_load.feature_importances_"
   ]
  },
  {
   "cell_type": "code",
   "execution_count": 23,
   "id": "d93dd06e",
   "metadata": {},
   "outputs": [
    {
     "data": {
      "text/plain": [
       "0.9777777777777777"
      ]
     },
     "execution_count": 23,
     "metadata": {},
     "output_type": "execute_result"
    }
   ],
   "source": [
    "rf_load.score(Xs[:,rf_result_selected['Gene index']], ys)"
   ]
  },
  {
   "cell_type": "code",
   "execution_count": 24,
   "id": "05ed8292",
   "metadata": {},
   "outputs": [
    {
     "data": {
      "text/plain": [
       "array([[0.89, 0.06, 0.05],\n",
       "       [0.63, 0.12, 0.25],\n",
       "       [0.87, 0.08, 0.05],\n",
       "       [0.94, 0.04, 0.02],\n",
       "       [0.8 , 0.16, 0.04],\n",
       "       [0.73, 0.26, 0.01],\n",
       "       [0.65, 0.07, 0.28],\n",
       "       [0.54, 0.36, 0.1 ],\n",
       "       [0.02, 0.51, 0.47],\n",
       "       [0.1 , 0.03, 0.87],\n",
       "       [0.85, 0.06, 0.09],\n",
       "       [0.12, 0.24, 0.64]])"
      ]
     },
     "execution_count": 24,
     "metadata": {},
     "output_type": "execute_result"
    }
   ],
   "source": [
    "rf.predict_proba(Xs_test[:,rf_result_selected['Gene index']])"
   ]
  },
  {
   "cell_type": "code",
   "execution_count": 25,
   "id": "b82427d1",
   "metadata": {},
   "outputs": [],
   "source": [
    "pd.DataFrame({'Gene index':rf_result_selected['Gene index'].values,\n",
    "              'Gene name':genes[rf_result_selected['Gene index'].values]}).to_csv('RF_selected_genes.csv')"
   ]
  },
  {
   "cell_type": "code",
   "execution_count": 26,
   "id": "2b5fe715",
   "metadata": {
    "collapsed": true
   },
   "outputs": [
    {
     "name": "stderr",
     "output_type": "stream",
     "text": [
      "/tmp/ipykernel_247836/2856623931.py:4: SettingWithCopyWarning: \n",
      "A value is trying to be set on a copy of a slice from a DataFrame.\n",
      "Try using .loc[row_indexer,col_indexer] = value instead\n",
      "\n",
      "See the caveats in the documentation: https://pandas.pydata.org/pandas-docs/stable/user_guide/indexing.html#returning-a-view-versus-a-copy\n",
      "  rf_result_selected['Gene name'] = selected_genes\n"
     ]
    }
   ],
   "source": [
    "selected_genes = []\n",
    "for i in rf_result_selected['Gene index']:\n",
    "    selected_genes.append(genes[i])\n",
    "rf_result_selected['Gene name'] = selected_genes\n",
    "rf_result_selected.to_csv('RF_selected_genes.csv')\n",
    "selected_genes = pd.read"
   ]
  },
  {
   "cell_type": "code",
   "execution_count": 27,
   "id": "1963b5ff",
   "metadata": {},
   "outputs": [],
   "source": [
    "rf_result_selected.sort_values(by='Importance',ascending=False).to_csv('RF_selected_genes.csv')"
   ]
  },
  {
   "cell_type": "markdown",
   "id": "567fb025",
   "metadata": {},
   "source": [
    "# Recursive feature elimination"
   ]
  },
  {
   "cell_type": "code",
   "execution_count": 28,
   "id": "a8d5ce8d",
   "metadata": {},
   "outputs": [],
   "source": [
    "from sklearn.feature_selection import RFE\n",
    "from sklearn.svm import SVC"
   ]
  },
  {
   "cell_type": "code",
   "execution_count": 29,
   "id": "612793fb",
   "metadata": {},
   "outputs": [],
   "source": [
    "estimator = SVC(C=3, kernel='linear')\n",
    "selector = RFE(estimator)"
   ]
  },
  {
   "cell_type": "code",
   "execution_count": 30,
   "id": "7dbeed5e",
   "metadata": {},
   "outputs": [],
   "source": [
    "selector = selector.fit(Xs, ys)"
   ]
  },
  {
   "cell_type": "code",
   "execution_count": 31,
   "id": "bdd9f39c",
   "metadata": {},
   "outputs": [],
   "source": [
    "selected_genes = np.unique(np.append(np.unique(selector.ranking_[:1000,]),rf_result_selected['Gene index'].values))"
   ]
  },
  {
   "cell_type": "code",
   "execution_count": 32,
   "id": "db746db0",
   "metadata": {},
   "outputs": [],
   "source": [
    "selected_genes = pd.DataFrame({'Gene index':selected_genes,\n",
    "                               'Gene name': genes[selected_genes]})"
   ]
  },
  {
   "cell_type": "code",
   "execution_count": 33,
   "id": "d8781fed",
   "metadata": {},
   "outputs": [
    {
     "data": {
      "text/html": [
       "<div>\n",
       "<style scoped>\n",
       "    .dataframe tbody tr th:only-of-type {\n",
       "        vertical-align: middle;\n",
       "    }\n",
       "\n",
       "    .dataframe tbody tr th {\n",
       "        vertical-align: top;\n",
       "    }\n",
       "\n",
       "    .dataframe thead th {\n",
       "        text-align: right;\n",
       "    }\n",
       "</style>\n",
       "<table border=\"1\" class=\"dataframe\">\n",
       "  <thead>\n",
       "    <tr style=\"text-align: right;\">\n",
       "      <th></th>\n",
       "      <th>Gene index</th>\n",
       "      <th>Gene name</th>\n",
       "    </tr>\n",
       "  </thead>\n",
       "  <tbody>\n",
       "    <tr>\n",
       "      <th>0</th>\n",
       "      <td>1</td>\n",
       "      <td>JAG2</td>\n",
       "    </tr>\n",
       "    <tr>\n",
       "      <th>1</th>\n",
       "      <td>2</td>\n",
       "      <td>DNASE1</td>\n",
       "    </tr>\n",
       "    <tr>\n",
       "      <th>2</th>\n",
       "      <td>22</td>\n",
       "      <td>XPC</td>\n",
       "    </tr>\n",
       "    <tr>\n",
       "      <th>3</th>\n",
       "      <td>31</td>\n",
       "      <td>AKT2</td>\n",
       "    </tr>\n",
       "    <tr>\n",
       "      <th>4</th>\n",
       "      <td>35</td>\n",
       "      <td>IGHG1</td>\n",
       "    </tr>\n",
       "    <tr>\n",
       "      <th>...</th>\n",
       "      <td>...</td>\n",
       "      <td>...</td>\n",
       "    </tr>\n",
       "    <tr>\n",
       "      <th>968</th>\n",
       "      <td>16588</td>\n",
       "      <td>AKAP2</td>\n",
       "    </tr>\n",
       "    <tr>\n",
       "      <th>969</th>\n",
       "      <td>16808</td>\n",
       "      <td>ACHE</td>\n",
       "    </tr>\n",
       "    <tr>\n",
       "      <th>970</th>\n",
       "      <td>16837</td>\n",
       "      <td>NCR1</td>\n",
       "    </tr>\n",
       "    <tr>\n",
       "      <th>971</th>\n",
       "      <td>17046</td>\n",
       "      <td>FAM225A</td>\n",
       "    </tr>\n",
       "    <tr>\n",
       "      <th>972</th>\n",
       "      <td>17106</td>\n",
       "      <td>LDHC</td>\n",
       "    </tr>\n",
       "  </tbody>\n",
       "</table>\n",
       "<p>973 rows × 2 columns</p>\n",
       "</div>"
      ],
      "text/plain": [
       "     Gene index Gene name\n",
       "0             1      JAG2\n",
       "1             2    DNASE1\n",
       "2            22       XPC\n",
       "3            31      AKT2\n",
       "4            35     IGHG1\n",
       "..          ...       ...\n",
       "968       16588     AKAP2\n",
       "969       16808      ACHE\n",
       "970       16837      NCR1\n",
       "971       17046   FAM225A\n",
       "972       17106      LDHC\n",
       "\n",
       "[973 rows x 2 columns]"
      ]
     },
     "execution_count": 33,
     "metadata": {},
     "output_type": "execute_result"
    }
   ],
   "source": [
    "selected_genes"
   ]
  },
  {
   "cell_type": "code",
   "execution_count": 34,
   "id": "08f0d88a",
   "metadata": {},
   "outputs": [],
   "source": [
    "selected_genes.to_csv('RFE_selected_genes.csv')"
   ]
  },
  {
   "cell_type": "code",
   "execution_count": 5,
   "id": "fc95a6d5",
   "metadata": {},
   "outputs": [
    {
     "data": {
      "text/plain": [
       "0          JAG2\n",
       "1         RPS16\n",
       "2          CFL1\n",
       "3        OGFRL1\n",
       "4       TMEM245\n",
       "         ...   \n",
       "963    ARHGEF37\n",
       "964     SLC15A5\n",
       "965       ASB14\n",
       "966    ARHGAP36\n",
       "967      ZNF564\n",
       "Name: Gene name, Length: 968, dtype: object"
      ]
     },
     "execution_count": 5,
     "metadata": {},
     "output_type": "execute_result"
    }
   ],
   "source": [
    "np.savetxt('Severity_related',pd.read_csv('selected_genes.csv', index_col='Unnamed: 0')['Gene name'])"
   ]
  },
  {
   "cell_type": "code",
   "execution_count": 36,
   "id": "f81bb32f",
   "metadata": {},
   "outputs": [
    {
     "data": {
      "text/html": [
       "<div>\n",
       "<style scoped>\n",
       "    .dataframe tbody tr th:only-of-type {\n",
       "        vertical-align: middle;\n",
       "    }\n",
       "\n",
       "    .dataframe tbody tr th {\n",
       "        vertical-align: top;\n",
       "    }\n",
       "\n",
       "    .dataframe thead th {\n",
       "        text-align: right;\n",
       "    }\n",
       "</style>\n",
       "<table border=\"1\" class=\"dataframe\">\n",
       "  <thead>\n",
       "    <tr style=\"text-align: right;\">\n",
       "      <th></th>\n",
       "      <th>Unnamed: 0</th>\n",
       "      <th>Gene index</th>\n",
       "      <th>Gene name</th>\n",
       "    </tr>\n",
       "  </thead>\n",
       "  <tbody>\n",
       "    <tr>\n",
       "      <th>0</th>\n",
       "      <td>0</td>\n",
       "      <td>1</td>\n",
       "      <td>JAG2</td>\n",
       "    </tr>\n",
       "    <tr>\n",
       "      <th>1</th>\n",
       "      <td>1</td>\n",
       "      <td>2</td>\n",
       "      <td>DNASE1</td>\n",
       "    </tr>\n",
       "    <tr>\n",
       "      <th>2</th>\n",
       "      <td>2</td>\n",
       "      <td>22</td>\n",
       "      <td>XPC</td>\n",
       "    </tr>\n",
       "    <tr>\n",
       "      <th>3</th>\n",
       "      <td>3</td>\n",
       "      <td>31</td>\n",
       "      <td>AKT2</td>\n",
       "    </tr>\n",
       "    <tr>\n",
       "      <th>4</th>\n",
       "      <td>4</td>\n",
       "      <td>35</td>\n",
       "      <td>IGHG1</td>\n",
       "    </tr>\n",
       "    <tr>\n",
       "      <th>...</th>\n",
       "      <td>...</td>\n",
       "      <td>...</td>\n",
       "      <td>...</td>\n",
       "    </tr>\n",
       "    <tr>\n",
       "      <th>968</th>\n",
       "      <td>968</td>\n",
       "      <td>16588</td>\n",
       "      <td>AKAP2</td>\n",
       "    </tr>\n",
       "    <tr>\n",
       "      <th>969</th>\n",
       "      <td>969</td>\n",
       "      <td>16808</td>\n",
       "      <td>ACHE</td>\n",
       "    </tr>\n",
       "    <tr>\n",
       "      <th>970</th>\n",
       "      <td>970</td>\n",
       "      <td>16837</td>\n",
       "      <td>NCR1</td>\n",
       "    </tr>\n",
       "    <tr>\n",
       "      <th>971</th>\n",
       "      <td>971</td>\n",
       "      <td>17046</td>\n",
       "      <td>FAM225A</td>\n",
       "    </tr>\n",
       "    <tr>\n",
       "      <th>972</th>\n",
       "      <td>972</td>\n",
       "      <td>17106</td>\n",
       "      <td>LDHC</td>\n",
       "    </tr>\n",
       "  </tbody>\n",
       "</table>\n",
       "<p>973 rows × 3 columns</p>\n",
       "</div>"
      ],
      "text/plain": [
       "     Unnamed: 0  Gene index Gene name\n",
       "0             0           1      JAG2\n",
       "1             1           2    DNASE1\n",
       "2             2          22       XPC\n",
       "3             3          31      AKT2\n",
       "4             4          35     IGHG1\n",
       "..          ...         ...       ...\n",
       "968         968       16588     AKAP2\n",
       "969         969       16808      ACHE\n",
       "970         970       16837      NCR1\n",
       "971         971       17046   FAM225A\n",
       "972         972       17106      LDHC\n",
       "\n",
       "[973 rows x 3 columns]"
      ]
     },
     "execution_count": 36,
     "metadata": {},
     "output_type": "execute_result"
    }
   ],
   "source": [
    "pd.read_csv('RFE_selected_genes.csv')"
   ]
  },
  {
   "cell_type": "markdown",
   "id": "b4ac9d80",
   "metadata": {},
   "source": [
    "# Lasso Selection"
   ]
  },
  {
   "cell_type": "code",
   "execution_count": 73,
   "id": "781b2708",
   "metadata": {},
   "outputs": [
    {
     "data": {
      "text/plain": [
       "LogisticRegression(multi_class='ovr', penalty='l1', solver='liblinear')"
      ]
     },
     "execution_count": 73,
     "metadata": {},
     "output_type": "execute_result"
    }
   ],
   "source": [
    "from sklearn.linear_model import LogisticRegression\n",
    "lasso_log = LogisticRegression(penalty='l1', solver='liblinear', multi_class='ovr')\n",
    "lasso_log.fit(Xs_train, ys_train)"
   ]
  },
  {
   "cell_type": "code",
   "execution_count": 79,
   "id": "e5685bb6",
   "metadata": {},
   "outputs": [
    {
     "data": {
      "text/html": [
       "<div>\n",
       "<style scoped>\n",
       "    .dataframe tbody tr th:only-of-type {\n",
       "        vertical-align: middle;\n",
       "    }\n",
       "\n",
       "    .dataframe tbody tr th {\n",
       "        vertical-align: top;\n",
       "    }\n",
       "\n",
       "    .dataframe thead th {\n",
       "        text-align: right;\n",
       "    }\n",
       "</style>\n",
       "<table border=\"1\" class=\"dataframe\">\n",
       "  <thead>\n",
       "    <tr style=\"text-align: right;\">\n",
       "      <th></th>\n",
       "      <th>Gene index</th>\n",
       "      <th>Gene name</th>\n",
       "    </tr>\n",
       "  </thead>\n",
       "  <tbody>\n",
       "    <tr>\n",
       "      <th>0</th>\n",
       "      <td>388</td>\n",
       "      <td>IFI27</td>\n",
       "    </tr>\n",
       "    <tr>\n",
       "      <th>1</th>\n",
       "      <td>13181</td>\n",
       "      <td>ADAMTS2</td>\n",
       "    </tr>\n",
       "    <tr>\n",
       "      <th>2</th>\n",
       "      <td>16715</td>\n",
       "      <td>VMO1</td>\n",
       "    </tr>\n",
       "    <tr>\n",
       "      <th>3</th>\n",
       "      <td>129</td>\n",
       "      <td>MTRNR2L8</td>\n",
       "    </tr>\n",
       "    <tr>\n",
       "      <th>4</th>\n",
       "      <td>388</td>\n",
       "      <td>IFI27</td>\n",
       "    </tr>\n",
       "    <tr>\n",
       "      <th>5</th>\n",
       "      <td>3232</td>\n",
       "      <td>DDX3Y</td>\n",
       "    </tr>\n",
       "    <tr>\n",
       "      <th>6</th>\n",
       "      <td>11757</td>\n",
       "      <td>ZFY</td>\n",
       "    </tr>\n",
       "    <tr>\n",
       "      <th>7</th>\n",
       "      <td>11766</td>\n",
       "      <td>MT2A</td>\n",
       "    </tr>\n",
       "    <tr>\n",
       "      <th>8</th>\n",
       "      <td>354</td>\n",
       "      <td>MT-ATP8</td>\n",
       "    </tr>\n",
       "    <tr>\n",
       "      <th>9</th>\n",
       "      <td>1861</td>\n",
       "      <td>XIST</td>\n",
       "    </tr>\n",
       "    <tr>\n",
       "      <th>10</th>\n",
       "      <td>1982</td>\n",
       "      <td>RPL21</td>\n",
       "    </tr>\n",
       "    <tr>\n",
       "      <th>11</th>\n",
       "      <td>2470</td>\n",
       "      <td>RPS27</td>\n",
       "    </tr>\n",
       "    <tr>\n",
       "      <th>12</th>\n",
       "      <td>4247</td>\n",
       "      <td>RPL30</td>\n",
       "    </tr>\n",
       "    <tr>\n",
       "      <th>13</th>\n",
       "      <td>7461</td>\n",
       "      <td>MMP8</td>\n",
       "    </tr>\n",
       "    <tr>\n",
       "      <th>14</th>\n",
       "      <td>10115</td>\n",
       "      <td>RPS26</td>\n",
       "    </tr>\n",
       "    <tr>\n",
       "      <th>15</th>\n",
       "      <td>13181</td>\n",
       "      <td>ADAMTS2</td>\n",
       "    </tr>\n",
       "    <tr>\n",
       "      <th>16</th>\n",
       "      <td>14011</td>\n",
       "      <td>MIF</td>\n",
       "    </tr>\n",
       "    <tr>\n",
       "      <th>17</th>\n",
       "      <td>14798</td>\n",
       "      <td>RHOF</td>\n",
       "    </tr>\n",
       "    <tr>\n",
       "      <th>18</th>\n",
       "      <td>15331</td>\n",
       "      <td>DAAM2</td>\n",
       "    </tr>\n",
       "    <tr>\n",
       "      <th>19</th>\n",
       "      <td>15831</td>\n",
       "      <td>OLAH</td>\n",
       "    </tr>\n",
       "    <tr>\n",
       "      <th>20</th>\n",
       "      <td>16490</td>\n",
       "      <td>TRAV21</td>\n",
       "    </tr>\n",
       "    <tr>\n",
       "      <th>21</th>\n",
       "      <td>16715</td>\n",
       "      <td>VMO1</td>\n",
       "    </tr>\n",
       "    <tr>\n",
       "      <th>22</th>\n",
       "      <td>16721</td>\n",
       "      <td>TRAV13-2</td>\n",
       "    </tr>\n",
       "  </tbody>\n",
       "</table>\n",
       "</div>"
      ],
      "text/plain": [
       "    Gene index Gene name\n",
       "0          388     IFI27\n",
       "1        13181   ADAMTS2\n",
       "2        16715      VMO1\n",
       "3          129  MTRNR2L8\n",
       "4          388     IFI27\n",
       "5         3232     DDX3Y\n",
       "6        11757       ZFY\n",
       "7        11766      MT2A\n",
       "8          354   MT-ATP8\n",
       "9         1861      XIST\n",
       "10        1982     RPL21\n",
       "11        2470     RPS27\n",
       "12        4247     RPL30\n",
       "13        7461      MMP8\n",
       "14       10115     RPS26\n",
       "15       13181   ADAMTS2\n",
       "16       14011       MIF\n",
       "17       14798      RHOF\n",
       "18       15331     DAAM2\n",
       "19       15831      OLAH\n",
       "20       16490    TRAV21\n",
       "21       16715      VMO1\n",
       "22       16721  TRAV13-2"
      ]
     },
     "execution_count": 79,
     "metadata": {},
     "output_type": "execute_result"
    }
   ],
   "source": [
    "lasso_index = []\n",
    "for i in range(len(lasso_log.coef_)):\n",
    "    for j in range(len(lasso_log.coef_[i])):\n",
    "        if lasso_log.coef_[i][j]!=0:\n",
    "            lasso_index.append(j)\n",
    "lasso_result_selected = pd.DataFrame({'Gene index':lasso_index,\n",
    "                                      'Gene name':genes[lasso_index]})\n",
    "lasso_result_selected"
   ]
  },
  {
   "cell_type": "code",
   "execution_count": 80,
   "id": "25408564",
   "metadata": {},
   "outputs": [],
   "source": [
    "lasso_result_selected.to_csv('Lasso_selected')"
   ]
  },
  {
   "cell_type": "code",
   "execution_count": 91,
   "id": "393dc1ce",
   "metadata": {},
   "outputs": [
    {
     "data": {
      "text/plain": [
       "0.9166666666666666"
      ]
     },
     "execution_count": 91,
     "metadata": {},
     "output_type": "execute_result"
    }
   ],
   "source": [
    "lasso_log_fs = LogisticRegression(solver='liblinear')\n",
    "lasso_log_fs.fit(Xs_train[:,lasso_index], ys_train)\n",
    "lasso_log_fs.score(Xs_test[:,lasso_index], ys_test)"
   ]
  }
 ],
 "metadata": {
  "kernelspec": {
   "display_name": "Python 3 (ipykernel)",
   "language": "python",
   "name": "python3"
  },
  "language_info": {
   "codemirror_mode": {
    "name": "ipython",
    "version": 3
   },
   "file_extension": ".py",
   "mimetype": "text/x-python",
   "name": "python",
   "nbconvert_exporter": "python",
   "pygments_lexer": "ipython3",
   "version": "3.8.10"
  }
 },
 "nbformat": 4,
 "nbformat_minor": 5
}
